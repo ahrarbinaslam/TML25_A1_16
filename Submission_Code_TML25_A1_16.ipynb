{
  "nbformat": 4,
  "nbformat_minor": 0,
  "metadata": {
    "colab": {
      "provenance": []
    },
    "kernelspec": {
      "name": "python3",
      "display_name": "Python 3"
    },
    "language_info": {
      "name": "python"
    }
  },
  "cells": [
    {
      "cell_type": "code",
      "execution_count": null,
      "metadata": {
        "id": "R280G7RlTqrQ"
      },
      "outputs": [],
      "source": [
        "import pandas as pd\n",
        "import numpy as np\n",
        "import requests\n",
        "\n",
        "df = pd.read_csv(\"submission.csv\")\n",
        "\n",
        "print(\"Submitting the following preview from submission.csv:\")\n",
        "print(df.head())\n",
        "\n",
        "# Submit to server\n",
        "response = requests.post(\n",
        "    \"http://34.122.51.94:9090/mia\",\n",
        "    files={\"file\": open(\"submission.csv\", \"rb\")},\n",
        "    headers={\"token\": \"93145372\"}  # Replace with actual token if needed\n",
        ")\n",
        "\n",
        "# Print server response\n",
        "print(\"Submission response:\", response.json())"
      ]
    }
  ]
}